{
 "cells": [
  {
   "cell_type": "code",
   "execution_count": 2,
   "metadata": {},
   "outputs": [],
   "source": [
    "import json\n",
    "import os\n",
    "from pprint import pprint\n",
    "\n",
    "import numpy as np\n",
    "import torch\n",
    "import torch.nn as nn\n",
    "import torch.nn.functional as F\n",
    "import torch.optim as optim\n",
    "import torch.utils.data as data\n",
    "import torchaudio\n",
    "from comet_ml import Experiment\n",
    "from ctcdecode import CTCBeamDecoder"
   ]
  },
  {
   "attachments": {},
   "cell_type": "markdown",
   "metadata": {},
   "source": [
    "# Dataset Downloading"
   ]
  },
  {
   "cell_type": "code",
   "execution_count": 3,
   "metadata": {},
   "outputs": [],
   "source": [
    "DATASET_FOLDER = 'LibriSpeech'"
   ]
  },
  {
   "cell_type": "code",
   "execution_count": 4,
   "metadata": {},
   "outputs": [],
   "source": [
    "def download_data(dataset_folder, download=False):\n",
    "    if not os.path.isdir(\"./data\"):\n",
    "        os.makedirs(\"./data\")\n",
    "\n",
    "    train_dataset = torchaudio.datasets.LIBRISPEECH(root='./data', folder_in_archive=dataset_folder, url='train-clean-100', download=download)\n",
    "    test_dataset = torchaudio.datasets.LIBRISPEECH(root='./data', folder_in_archive=dataset_folder, url='test-clean', download=download)\n",
    "    return train_dataset, test_dataset"
   ]
  },
  {
   "cell_type": "code",
   "execution_count": 5,
   "metadata": {},
   "outputs": [
    {
     "data": {
      "text/plain": [
       "(<torchaudio.datasets.librispeech.LIBRISPEECH at 0x7ff0f125f610>,\n",
       " <torchaudio.datasets.librispeech.LIBRISPEECH at 0x7ff1cf56e280>)"
      ]
     },
     "execution_count": 5,
     "metadata": {},
     "output_type": "execute_result"
    }
   ],
   "source": [
    "download_data(DATASET_FOLDER, True)"
   ]
  },
  {
   "cell_type": "code",
   "execution_count": 6,
   "metadata": {},
   "outputs": [
    {
     "name": "stdout",
     "output_type": "stream",
     "text": [
      "28539 2620\n"
     ]
    }
   ],
   "source": [
    "train_dataset, test_dataset = download_data(DATASET_FOLDER)\n",
    "print(len(train_dataset), len(test_dataset))"
   ]
  },
  {
   "attachments": {},
   "cell_type": "markdown",
   "metadata": {},
   "source": [
    "# Data Processing"
   ]
  },
  {
   "cell_type": "code",
   "execution_count": 7,
   "metadata": {},
   "outputs": [
    {
     "name": "stderr",
     "output_type": "stream",
     "text": [
      "/home/pigeon_gcc/anaconda3/envs/asr_project/lib/python3.9/site-packages/torchaudio/functional/functional.py:571: UserWarning: At least one mel filterbank has all zero values. The value for `n_mels` (128) may be set too high. Or, the value for `n_freqs` (201) may be set too low.\n",
      "  warnings.warn(\n"
     ]
    }
   ],
   "source": [
    "char_map_str = \"\"\"\n",
    "' 0\n",
    "<BLANK> 1\n",
    "a 2\n",
    "b 3\n",
    "c 4\n",
    "d 5\n",
    "e 6\n",
    "f 7\n",
    "g 8\n",
    "h 9\n",
    "i 10\n",
    "j 11\n",
    "k 12\n",
    "l 13\n",
    "m 14\n",
    "n 15\n",
    "o 16\n",
    "p 17\n",
    "q 18\n",
    "r 19\n",
    "s 20\n",
    "t 21\n",
    "u 22\n",
    "v 23\n",
    "w 24\n",
    "x 25\n",
    "y 26\n",
    "z 27\n",
    "\"\"\"\n",
    "\n",
    "BLANK_LABEL = None  # to be assigned in TextTranform constructor\n",
    "\n",
    "class TextTransform:\n",
    "    \"\"\" Maps characters to their indices, and vice versa \"\"\"\n",
    "    def __init__(self):\n",
    "        self.char_map = {}\n",
    "        self.index_map = {}\n",
    "        global BLANK_LABEL\n",
    "        for line in char_map_str.strip().split('\\n'):\n",
    "            ch, index = line.split()\n",
    "            self.char_map[ch] = int(index)\n",
    "            self.index_map[int(index)] = ch\n",
    "            if not BLANK_LABEL and ch == '<BLANK>':\n",
    "                BLANK_LABEL = int(index)\n",
    "        self.index_map[BLANK_LABEL] = ' '\n",
    "\n",
    "    def text_to_int(self, text: list[str]):\n",
    "        \"\"\" Use a character map and convert text to an integer sequence \"\"\"\n",
    "        int_sequence = []\n",
    "        for c in text:\n",
    "            if c == ' ':\n",
    "                ind = self.char_map['<BLANK>']\n",
    "            else:\n",
    "                ind = self.char_map[c]\n",
    "            int_sequence.append(ind)\n",
    "        return int_sequence\n",
    "\n",
    "    def int_to_text(self, labels: list[int]):\n",
    "        \"\"\" Use a character map and convert integer labels to an text sequence \"\"\"\n",
    "        string = []\n",
    "        for i in labels:\n",
    "            string.append(self.index_map[i])\n",
    "        return ''.join(string).replace('<BLANK>', ' ').strip()\n",
    "\n",
    "\n",
    "# TODO: SpecAugment (masking augmentations)\n",
    "train_audio_transforms = nn.Sequential(\n",
    "    torchaudio.transforms.MelSpectrogram(sample_rate=16000, n_mels=128),\n",
    "    torchaudio.transforms.FrequencyMasking(freq_mask_param=15),\n",
    "    torchaudio.transforms.TimeMasking(time_mask_param=35)\n",
    ")\n",
    "\n",
    "valid_audio_transforms = torchaudio.transforms.MelSpectrogram()\n",
    "\n",
    "text_transform = TextTransform()"
   ]
  },
  {
   "cell_type": "code",
   "execution_count": 8,
   "metadata": {},
   "outputs": [
    {
     "name": "stdout",
     "output_type": "stream",
     "text": [
      "1\n"
     ]
    }
   ],
   "source": [
    "print(BLANK_LABEL)"
   ]
  },
  {
   "cell_type": "code",
   "execution_count": 9,
   "metadata": {},
   "outputs": [
    {
     "name": "stdout",
     "output_type": "stream",
     "text": [
      "yes --> [26, 6, 20] --> yes\n"
     ]
    }
   ],
   "source": [
    "# testing the code above\n",
    "word_start = \"yes\"\n",
    "index = text_transform.text_to_int(word_start)\n",
    "word_recovered = text_transform.int_to_text(index)\n",
    "\n",
    "print(word_start, \"-->\", index, \"-->\", word_recovered)"
   ]
  },
  {
   "attachments": {},
   "cell_type": "markdown",
   "metadata": {},
   "source": [
    "The function __data_processing()__ will be called in Data Loaders' __collate_fn__.\n",
    "\n",
    "Data is represented as tuple(wave, sample_rate, utterance (label), speaker id, utterance number)"
   ]
  },
  {
   "cell_type": "code",
   "execution_count": 10,
   "metadata": {},
   "outputs": [
    {
     "data": {
      "text/plain": [
       "(tensor([[ 0.0052,  0.0074,  0.0113,  ..., -0.0007, -0.0039, -0.0058]]),\n",
       " 16000,\n",
       " \"FOR NOT EVEN A BROOK COULD RUN PAST MISSUS RACHEL LYNDE'S DOOR WITHOUT DUE REGARD FOR DECENCY AND DECORUM IT PROBABLY WAS CONSCIOUS THAT MISSUS RACHEL WAS SITTING AT HER WINDOW KEEPING A SHARP EYE ON EVERYTHING THAT PASSED FROM BROOKS AND CHILDREN UP\",\n",
       " 103,\n",
       " 1240,\n",
       " 2)"
      ]
     },
     "execution_count": 10,
     "metadata": {},
     "output_type": "execute_result"
    }
   ],
   "source": [
    "sample = train_dataset.__getitem__(n=2)\n",
    "sample"
   ]
  },
  {
   "cell_type": "code",
   "execution_count": 11,
   "metadata": {},
   "outputs": [],
   "source": [
    "def data_processing(data, data_type=\"train\"):\n",
    "    spectrograms = []\n",
    "    labels = []\n",
    "    input_lengths = []\n",
    "    label_lengths = []\n",
    "    for (waveform, _, utterance, _, _, _) in data:\n",
    "        if data_type == 'train':\n",
    "            spec = train_audio_transforms(waveform).squeeze(0).transpose(0, 1)\n",
    "        else:\n",
    "            spec = valid_audio_transforms(waveform).squeeze(0).transpose(0, 1)\n",
    "        spectrograms.append(spec)\n",
    "        # labels are lists of integer character ids\n",
    "        label = torch.Tensor(text_transform.text_to_int(utterance.lower()))\n",
    "        labels.append(label)\n",
    "        # input_lengths, label_lengths are used in loss function\n",
    "        input_lengths.append(spec.shape[0]//2)\n",
    "        label_lengths.append(len(label))\n",
    "\n",
    "    spectrograms = nn.utils.rnn.pad_sequence(spectrograms, batch_first=True).unsqueeze(1).transpose(2, 3)\n",
    "    labels = nn.utils.rnn.pad_sequence(labels, batch_first=True)\n",
    "\n",
    "    return spectrograms, labels, input_lengths, label_lengths"
   ]
  },
  {
   "cell_type": "code",
   "execution_count": 12,
   "metadata": {},
   "outputs": [
    {
     "data": {
      "text/plain": [
       "(tensor([[[[0.0000e+00, 0.0000e+00, 0.0000e+00,  ..., 0.0000e+00,\n",
       "            0.0000e+00, 0.0000e+00],\n",
       "           [1.0323e-01, 5.5455e-02, 5.8218e-02,  ..., 4.6377e-02,\n",
       "            4.9086e-02, 5.8545e-02],\n",
       "           [5.5582e-01, 2.9858e-01, 3.1346e-01,  ..., 2.4971e-01,\n",
       "            2.6429e-01, 3.1522e-01],\n",
       "           ...,\n",
       "           [6.0961e-05, 9.4463e-05, 1.3510e-04,  ..., 1.9498e-04,\n",
       "            4.0945e-04, 6.1479e-05],\n",
       "           [4.1905e-05, 1.5869e-04, 1.1976e-04,  ..., 1.0217e-04,\n",
       "            3.5421e-04, 8.3099e-05],\n",
       "           [2.9035e-04, 6.6924e-05, 1.1111e-04,  ..., 8.5560e-05,\n",
       "            3.0291e-05, 4.2126e-05]]]]),\n",
       " tensor([[ 7., 16., 19.,  1., 15., 16., 21.,  1.,  6., 23.,  6., 15.,  1.,  2.,\n",
       "           1.,  3., 19., 16., 16., 12.,  1.,  4., 16., 22., 13.,  5.,  1., 19.,\n",
       "          22., 15.,  1., 17.,  2., 20., 21.,  1., 14., 10., 20., 20., 22., 20.,\n",
       "           1., 19.,  2.,  4.,  9.,  6., 13.,  1., 13., 26., 15.,  5.,  6.,  0.,\n",
       "          20.,  1.,  5., 16., 16., 19.,  1., 24., 10., 21.,  9., 16., 22., 21.,\n",
       "           1.,  5., 22.,  6.,  1., 19.,  6.,  8.,  2., 19.,  5.,  1.,  7., 16.,\n",
       "          19.,  1.,  5.,  6.,  4.,  6., 15.,  4., 26.,  1.,  2., 15.,  5.,  1.,\n",
       "           5.,  6.,  4., 16., 19., 22., 14.,  1., 10., 21.,  1., 17., 19., 16.,\n",
       "           3.,  2.,  3., 13., 26.,  1., 24.,  2., 20.,  1.,  4., 16., 15., 20.,\n",
       "           4., 10., 16., 22., 20.,  1., 21.,  9.,  2., 21.,  1., 14., 10., 20.,\n",
       "          20., 22., 20.,  1., 19.,  2.,  4.,  9.,  6., 13.,  1., 24.,  2., 20.,\n",
       "           1., 20., 10., 21., 21., 10., 15.,  8.,  1.,  2., 21.,  1.,  9.,  6.,\n",
       "          19.,  1., 24., 10., 15.,  5., 16., 24.,  1., 12.,  6.,  6., 17., 10.,\n",
       "          15.,  8.,  1.,  2.,  1., 20.,  9.,  2., 19., 17.,  1.,  6., 26.,  6.,\n",
       "           1., 16., 15.,  1.,  6., 23.,  6., 19., 26., 21.,  9., 10., 15.,  8.,\n",
       "           1., 21.,  9.,  2., 21.,  1., 17.,  2., 20., 20.,  6.,  5.,  1.,  7.,\n",
       "          19., 16., 14.,  1.,  3., 19., 16., 16., 12., 20.,  1.,  2., 15.,  5.,\n",
       "           1.,  4.,  9., 10., 13.,  5., 19.,  6., 15.,  1., 22., 17.]]),\n",
       " [558],\n",
       " [250])"
      ]
     },
     "execution_count": 12,
     "metadata": {},
     "output_type": "execute_result"
    }
   ],
   "source": [
    "# testing\n",
    "data_processing((sample,))"
   ]
  },
  {
   "attachments": {},
   "cell_type": "markdown",
   "metadata": {},
   "source": [
    "## CER and WER metrics"
   ]
  },
  {
   "cell_type": "code",
   "execution_count": 13,
   "metadata": {},
   "outputs": [],
   "source": [
    "def _levenshtein_distance(ref, hyp):\n",
    "    \"\"\"Levenshtein distance is a string metric for measuring the difference\n",
    "    between two sequences. Informally, the levenshtein disctance is defined as\n",
    "    the minimum number of single-character edits (substitutions, insertions or\n",
    "    deletions) required to change one word into the other. We can naturally\n",
    "    extend the edits to word level when calculate levenshtein disctance for\n",
    "    two sentences.\n",
    "    \"\"\"\n",
    "    m = len(ref)\n",
    "    n = len(hyp)\n",
    "\n",
    "    # special case\n",
    "    if ref == hyp:\n",
    "        return 0\n",
    "    if m == 0:\n",
    "        return n\n",
    "    if n == 0:\n",
    "        return m\n",
    "\n",
    "    if m < n:\n",
    "        ref, hyp = hyp, ref\n",
    "        m, n = n, m\n",
    "\n",
    "    # use O(min(m, n)) space\n",
    "    distance = np.zeros((2, n + 1), dtype=np.int32)\n",
    "\n",
    "    # initialize distance matrix\n",
    "    for j in range(0,n + 1):\n",
    "        distance[0][j] = j\n",
    "\n",
    "    # calculate levenshtein distance\n",
    "    for i in range(1, m + 1):\n",
    "        prev_row_idx = (i - 1) % 2\n",
    "        cur_row_idx = i % 2\n",
    "        distance[cur_row_idx][0] = i\n",
    "        for j in range(1, n + 1):\n",
    "            if ref[i - 1] == hyp[j - 1]:\n",
    "                distance[cur_row_idx][j] = distance[prev_row_idx][j - 1]\n",
    "            else:\n",
    "                s_num = distance[prev_row_idx][j - 1] + 1\n",
    "                i_num = distance[cur_row_idx][j - 1] + 1\n",
    "                d_num = distance[prev_row_idx][j] + 1\n",
    "                distance[cur_row_idx][j] = min(s_num, i_num, d_num)\n",
    "\n",
    "    return distance[m % 2][n]\n",
    "\n",
    "\n",
    "def word_errors(reference, hypothesis, ignore_case=False, delimiter=' '):\n",
    "    \"\"\"Compute the levenshtein distance between reference sequence and\n",
    "    hypothesis sequence in word-level.\n",
    "    :param reference: The reference sentence.\n",
    "    :type reference: basestring\n",
    "    :param hypothesis: The hypothesis sentence.\n",
    "    :type hypothesis: basestring\n",
    "    :param ignore_case: Whether case-sensitive or not.\n",
    "    :type ignore_case: bool\n",
    "    :param delimiter: Delimiter of input sentences.\n",
    "    :type delimiter: char\n",
    "    :return: Levenshtein distance and word number of reference sentence.\n",
    "    :rtype: list\n",
    "    \"\"\"\n",
    "    if ignore_case == True:\n",
    "        reference = reference.lower()\n",
    "        hypothesis = hypothesis.lower()\n",
    "\n",
    "    ref_words = reference.split(delimiter)\n",
    "    hyp_words = hypothesis.split(delimiter)\n",
    "\n",
    "    edit_distance = _levenshtein_distance(ref_words, hyp_words)\n",
    "    return float(edit_distance), len(ref_words)\n",
    "\n",
    "\n",
    "def char_errors(reference, hypothesis, ignore_case=False, remove_space=False):\n",
    "    \"\"\"Compute the levenshtein distance between reference sequence and\n",
    "    hypothesis sequence in char-level.\n",
    "    :param reference: The reference sentence.\n",
    "    :type reference: basestring\n",
    "    :param hypothesis: The hypothesis sentence.\n",
    "    :type hypothesis: basestring\n",
    "    :param ignore_case: Whether case-sensitive or not.\n",
    "    :type ignore_case: bool\n",
    "    :param remove_space: Whether remove internal space characters\n",
    "    :type remove_space: bool\n",
    "    :return: Levenshtein distance and length of reference sentence.\n",
    "    :rtype: list\n",
    "    \"\"\"\n",
    "    if ignore_case == True:\n",
    "        reference = reference.lower()\n",
    "        hypothesis = hypothesis.lower()\n",
    "\n",
    "    join_char = ' '\n",
    "    if remove_space == True:\n",
    "        join_char = ''\n",
    "\n",
    "    reference = join_char.join(filter(None, reference.split(' ')))\n",
    "    hypothesis = join_char.join(filter(None, hypothesis.split(' ')))\n",
    "\n",
    "    edit_distance = _levenshtein_distance(reference, hypothesis)\n",
    "    return float(edit_distance), len(reference)\n",
    "\n",
    "\n",
    "def wer(reference, hypothesis, ignore_case=False, delimiter=' '):\n",
    "    \"\"\"Calculate word error rate (WER). WER compares reference text and\n",
    "    hypothesis text in word-level. WER is defined as:\n",
    "    .. math::\n",
    "        WER = (Sw + Dw + Iw) / Nw\n",
    "    where\n",
    "    .. code-block:: text\n",
    "        Sw is the number of words subsituted,\n",
    "        Dw is the number of words deleted,\n",
    "        Iw is the number of words inserted,\n",
    "        Nw is the number of words in the reference\n",
    "    We can use levenshtein distance to calculate WER. Please draw an attention\n",
    "    that empty items will be removed when splitting sentences by delimiter.\n",
    "    :param reference: The reference sentence.\n",
    "    :type reference: basestring\n",
    "    :param hypothesis: The hypothesis sentence.\n",
    "    :type hypothesis: basestring\n",
    "    :param ignore_case: Whether case-sensitive or not.\n",
    "    :type ignore_case: bool\n",
    "    :param delimiter: Delimiter of input sentences.\n",
    "    :type delimiter: char\n",
    "    :return: Word error rate.\n",
    "    :rtype: float\n",
    "    :raises ValueError: If word number of reference is zero.\n",
    "    \"\"\"\n",
    "    edit_distance, ref_len = word_errors(reference, hypothesis, ignore_case,\n",
    "                                         delimiter)\n",
    "\n",
    "    if ref_len == 0:\n",
    "        raise ValueError(\"Reference's word number should be greater than 0.\")\n",
    "\n",
    "    wer = float(edit_distance) / ref_len\n",
    "    return wer\n",
    "\n",
    "\n",
    "def cer(reference, hypothesis, ignore_case=False, remove_space=False):\n",
    "    \"\"\"Calculate charactor error rate (CER). CER compares reference text and\n",
    "    hypothesis text in char-level. CER is defined as:\n",
    "    .. math::\n",
    "        CER = (Sc + Dc + Ic) / Nc\n",
    "    where\n",
    "    .. code-block:: text\n",
    "        Sc is the number of characters substituted,\n",
    "        Dc is the number of characters deleted,\n",
    "        Ic is the number of characters inserted\n",
    "        Nc is the number of characters in the reference\n",
    "    We can use levenshtein distance to calculate CER. Chinese input should be\n",
    "    encoded to unicode. Please draw an attention that the leading and tailing\n",
    "    space characters will be truncated and multiple consecutive space\n",
    "    characters in a sentence will be replaced by one space character.\n",
    "    :param reference: The reference sentence.\n",
    "    :type reference: basestring\n",
    "    :param hypothesis: The hypothesis sentence.\n",
    "    :type hypothesis: basestring\n",
    "    :param ignore_case: Whether case-sensitive or not.\n",
    "    :type ignore_case: bool\n",
    "    :param remove_space: Whether remove internal space characters\n",
    "    :type remove_space: bool\n",
    "    :return: Character error rate.\n",
    "    :rtype: float\n",
    "    :raises ValueError: If the reference length is zero.\n",
    "    \"\"\"\n",
    "    edit_distance, ref_len = char_errors(reference, hypothesis, ignore_case,\n",
    "                                         remove_space)\n",
    "\n",
    "    if ref_len == 0:\n",
    "        raise ValueError(\"Length of reference should be greater than 0.\")\n",
    "\n",
    "    cer = float(edit_distance) / ref_len\n",
    "    return cer"
   ]
  },
  {
   "attachments": {},
   "cell_type": "markdown",
   "metadata": {},
   "source": [
    "# Building a Model"
   ]
  },
  {
   "attachments": {},
   "cell_type": "markdown",
   "metadata": {},
   "source": [
    "## NN Architecture"
   ]
  },
  {
   "attachments": {},
   "cell_type": "markdown",
   "metadata": {},
   "source": [
    "We use Layer Normalization, not Batch Normalization, because BN is hard to use with sequence data, with small batch sizes, and it's hard to paralellize a NN with BN.\n",
    "\n",
    "This is due to the dependency on batches. Layer Normalization removes this dependency. It computes the normalization based on the layers inside of the batches.\n",
    "\n",
    "LN briefly: Input values in all neurons in the same layer are normalized for each data sample.\n",
    "So, all values in neurons of the same layer will have the same mean and variance.\n",
    "\n",
    "LN is can deal with sequence data, doesn't depend on batch size, and is easily paralellized.\n",
    "However, LN sometimes performs worse than BN with CNNs."
   ]
  },
  {
   "cell_type": "code",
   "execution_count": 14,
   "metadata": {},
   "outputs": [],
   "source": [
    "class CNNLayerNorm(nn.Module):\n",
    "    \"\"\"Layer Normalization\"\"\"\n",
    "    \n",
    "    def __init__(self, n_features):\n",
    "        super(CNNLayerNorm, self).__init__()\n",
    "        self.layer_norm = nn.LayerNorm(normalized_shape=n_features)\n",
    "        \"\"\"About normalized_shape parameter of nn.LayerNorm:\n",
    "        If a single integer is used, it is treated as a singleton list, and this module will normalize\n",
    "        over the last dimension which is expected to be of that specific size.\n",
    "        \"\"\"\n",
    "\n",
    "    def forward(self, x):\n",
    "        # x (batch, channel, feature, time)\n",
    "        x = x.transpose(2, 3).contiguous() # (batch, channel, time, feature)\n",
    "        x = self.layer_norm(x)\n",
    "        return x.transpose(2, 3).contiguous() # (batch, channel, feature, time) \n",
    "\n",
    "class ResidualCNN(nn.Module):\n",
    "    \"\"\" Residual CNN inspired by https://arxiv.org/pdf/1603.05027.pdf\n",
    "        except with layer norm instead of batch norm \"\"\"\n",
    "    \n",
    "    def __init__(self, in_channels, out_channels, kernel, stride, dropout, n_features):\n",
    "        super(ResidualCNN, self).__init__()\n",
    "\n",
    "        self.layer_norm1 = CNNLayerNorm(n_features)\n",
    "        self.dropout1 = nn.Dropout(dropout)\n",
    "        self.cnn1 = nn.Conv2d(in_channels, out_channels, kernel, stride, padding=kernel//2)\n",
    "\n",
    "        self.layer_norm2 = CNNLayerNorm(n_features)\n",
    "        self.dropout2 = nn.Dropout(dropout)\n",
    "        self.cnn2 = nn.Conv2d(out_channels, out_channels, kernel, stride, padding=kernel//2)\n",
    "\n",
    "    def forward(self, x):\n",
    "        residual = x  # (batch, channel, feature, time)\n",
    "        out = self.layer_norm1(x)\n",
    "        out = F.gelu(out)\n",
    "        out = self.dropout1(out)\n",
    "        out = self.cnn1(out)\n",
    "        out = self.layer_norm2(out)\n",
    "        out = F.gelu(out)\n",
    "        out = self.dropout2(out)\n",
    "        out = self.cnn2(out)\n",
    "        out += residual\n",
    "        return out # (batch, channel, feature, time)\n",
    "        \n",
    "class BidirectionalGRU(nn.Module):\n",
    "\n",
    "    def __init__(self, rnn_type, rnn_dim, hidden_size, dropout, batch_first):\n",
    "        super(BidirectionalGRU, self).__init__()\n",
    "\n",
    "        if rnn_type == \"GRU\":\n",
    "            self.rnn_cell = nn.GRU\n",
    "        elif rnn_type == \"LSTM\":\n",
    "            self.rnn_cell = nn.LSTM\n",
    "\n",
    "        self.layer_norm = nn.LayerNorm(rnn_dim)\n",
    "        self.BiGRU = self.rnn_cell(\n",
    "            input_size=rnn_dim, hidden_size=hidden_size,\n",
    "            num_layers=1, batch_first=batch_first, bidirectional=True)\n",
    "        self.dropout = nn.Dropout(dropout)\n",
    "\n",
    "    def forward(self, x):\n",
    "        out = self.layer_norm(x)\n",
    "        out = F.gelu(out)\n",
    "        out, _ = self.BiGRU(out)\n",
    "        out = self.dropout(out)\n",
    "        return out\n",
    "\n",
    "\n",
    "class SpeechRecognitionModel(nn.Module):\n",
    "    \"\"\"Speech Recognition Model Inspired by DeepSpeech 2\"\"\"\n",
    "\n",
    "    def __init__(self, rnn_type, n_cnn_layers, n_rnn_layers, rnn_dim, n_class, n_features, stride=2, dropout=0.1):\n",
    "        super(SpeechRecognitionModel, self).__init__()\n",
    "        n_features = n_features // 2\n",
    "\n",
    "        # TODO: purpose of this conv layer\n",
    "        self.cnn = nn.Conv2d(1, 32, 3, stride=stride, padding=3 // 2)  # cnn for extracting heirachal features\n",
    "\n",
    "        # n residual cnn layers with filter size of 32\n",
    "        self.rescnn_layers = nn.Sequential(*[\n",
    "            ResidualCNN(32, 32, kernel=3, stride=1, dropout=dropout, n_features=n_features) \n",
    "            for _ in range(n_cnn_layers)\n",
    "        ])\n",
    "        self.fully_connected = nn.Linear(n_features*32, rnn_dim)\n",
    "        \"\"\"TODO: как я понял, у нас число фичей rnn_dim берётся одиночное для первой GRU, т.к. к ней не перетекает скрытое состояние.\n",
    "        Каждая следующая GRU получает 2*rnn_dim фичей, т.к. к самим фичам конкатенируется скрытое состояние такой же размерности (hidden_size=rnn_dim)\n",
    "        \"\"\"\n",
    "        self.birnn_layers = nn.Sequential(*[\n",
    "            BidirectionalGRU(rnn_type=rnn_type, \n",
    "                             rnn_dim=rnn_dim if i==0 else rnn_dim*2,\n",
    "                             hidden_size=rnn_dim, dropout=dropout, batch_first=i==0)\n",
    "            for i in range(n_rnn_layers)\n",
    "        ])\n",
    "        self.classifier = nn.Sequential(\n",
    "            nn.Linear(rnn_dim*2, rnn_dim),  # birnn returns rnn_dim*2\n",
    "            nn.GELU(),\n",
    "            nn.Dropout(dropout),\n",
    "            nn.Linear(rnn_dim, n_class)\n",
    "        )\n",
    "\n",
    "    def forward(self, x):\n",
    "        x = self.cnn(x)\n",
    "        x = self.rescnn_layers(x)\n",
    "        sizes = x.size()\n",
    "        x = x.view(sizes[0], sizes[1] * sizes[2], sizes[3])  # (batch, feature, time)\n",
    "        x = x.transpose(1, 2) # (batch, time, feature)\n",
    "        x = self.fully_connected(x)\n",
    "        x = self.birnn_layers(x)\n",
    "        x = self.classifier(x)\n",
    "        return x"
   ]
  },
  {
   "attachments": {},
   "cell_type": "markdown",
   "metadata": {},
   "source": [
    "# Decoder"
   ]
  },
  {
   "attachments": {},
   "cell_type": "markdown",
   "metadata": {},
   "source": [
    "## Greedy Decoder"
   ]
  },
  {
   "cell_type": "code",
   "execution_count": 15,
   "metadata": {},
   "outputs": [],
   "source": [
    "def GreedyDecoder(output, labels, label_lengths, blank_label=BLANK_LABEL, collapse_repeated=True):\n",
    "    output = F.log_softmax(output, dim=2)\n",
    "\n",
    "    arg_maxes = torch.argmax(output, dim=2)\n",
    "    decodes = []\n",
    "    targets = []\n",
    "    \n",
    "    for i, args in enumerate(arg_maxes):\n",
    "        decode = []\n",
    "        targets.append(text_transform.int_to_text(labels[i][:label_lengths[i]].tolist()))\n",
    "        blank_ctr = 0\n",
    "        for j, index in enumerate(args):\n",
    "            if collapse_repeated and index == blank_label:\n",
    "                blank_ctr += 1\n",
    "            else:\n",
    "                if blank_ctr > 2:\n",
    "                    decode.append(blank_label)\n",
    "                blank_ctr = 0\n",
    "\n",
    "                if collapse_repeated and j != 0 and index == args[j - 1]:\n",
    "                    continue\n",
    "                \n",
    "                decode.append(index.item())\n",
    "        \n",
    "        decodes.append(text_transform.int_to_text(decode))\n",
    "\n",
    "    return decodes, targets"
   ]
  },
  {
   "attachments": {},
   "cell_type": "markdown",
   "metadata": {},
   "source": [
    "## Beam Search Decoder"
   ]
  },
  {
   "cell_type": "code",
   "execution_count": 16,
   "metadata": {},
   "outputs": [],
   "source": [
    "characters = list(text_transform.char_map.keys())\n",
    "\n",
    "beam_decoder = CTCBeamDecoder(\n",
    "    labels=characters,\n",
    "    cutoff_top_n=len(characters),   # do not discard any characters from beam search\n",
    "    cutoff_prob=1.0,    # cutoff probability in pruning (1.0 means no pruning)\n",
    "    beam_width=100,\n",
    "    num_processes=4,\n",
    "    blank_id=28,\n",
    "    log_probs_input=True\n",
    ")"
   ]
  },
  {
   "cell_type": "code",
   "execution_count": 17,
   "metadata": {},
   "outputs": [],
   "source": [
    "def BeamSearchDecoder(output):\n",
    "    top_beams = []\n",
    "    decodings = []\n",
    "\n",
    "    beam_results, beam_scores, timesteps, out_lens = beam_decoder.decode(output)\n",
    "    \n",
    "    for i in range(len(beam_results)):\n",
    "        top_beam = beam_results[i][0][:out_lens[i][0]]\n",
    "        decoding = text_transform.int_to_text(top_beam.tolist())\n",
    "\n",
    "        top_beams.append(top_beam)\n",
    "        decodings.append(decoding)\n",
    "        \n",
    "    return top_beams, decodings"
   ]
  },
  {
   "attachments": {},
   "cell_type": "markdown",
   "metadata": {},
   "source": [
    "# Training"
   ]
  },
  {
   "cell_type": "code",
   "execution_count": 18,
   "metadata": {},
   "outputs": [],
   "source": [
    "def get_device():\n",
    "    use_cuda = torch.cuda.is_available()\n",
    "    torch.manual_seed(7)\n",
    "    device = torch.device(\"cuda\" if use_cuda else \"cpu\")\n",
    "    return device, use_cuda"
   ]
  },
  {
   "cell_type": "code",
   "execution_count": 19,
   "metadata": {},
   "outputs": [
    {
     "name": "stderr",
     "output_type": "stream",
     "text": [
      "COMET WARNING: As you are running in a Jupyter environment, you will need to call `experiment.end()` when finished to ensure all metrics and code are logged before exiting.\n"
     ]
    }
   ],
   "source": [
    "class IterMeter(object):\n",
    "    \"\"\"Keeps track of total iterations. Used for Comet.ml\"\"\"\n",
    "    def __init__(self):\n",
    "        self.val = 0\n",
    "\n",
    "    def step(self):\n",
    "        self.val += 1\n",
    "\n",
    "    def get(self):\n",
    "        return self.val\n",
    "\n",
    "\n",
    "def train(model, device, train_loader, criterion, optimizer, scheduler, epoch, iter_meter, experiment):\n",
    "    model.train()\n",
    "    data_len = len(train_loader.dataset)\n",
    "    with experiment.train():\n",
    "        for batch_idx, _data in enumerate(train_loader):\n",
    "            spectrograms, labels, input_lengths, label_lengths = _data \n",
    "            spectrograms, labels = spectrograms.to(device), labels.to(device)\n",
    "\n",
    "            optimizer.zero_grad()\n",
    "\n",
    "            output = model(spectrograms)  # (batch, time, n_class)\n",
    "            output = F.log_softmax(output, dim=2)\n",
    "            output = output.transpose(0, 1) # (time, batch, n_class)\n",
    "\n",
    "            loss = criterion(output, labels, input_lengths, label_lengths)\n",
    "            loss.backward()\n",
    "\n",
    "            experiment.log_metric('loss', loss.item(), step=iter_meter.get())\n",
    "            experiment.log_metric('learning_rate', scheduler.get_last_lr(), step=iter_meter.get())\n",
    "\n",
    "            optimizer.step()\n",
    "            scheduler.step()   # scheduler step for oncecycle scheduler\n",
    "            iter_meter.step()\n",
    "\n",
    "            if batch_idx % 100 == 0 or batch_idx == data_len:\n",
    "                print('Train Epoch: {} [{}/{} ({:.0f}%)]\\tLoss: {:.6f}'.format(\n",
    "                    epoch, batch_idx * len(spectrograms), data_len,\n",
    "                    100. * batch_idx / len(train_loader), loss.item()))\n",
    "\n",
    "\n",
    "def test(model, device, test_loader, criterion, epoch, iter_meter, experiment):\n",
    "    print('\\nEvaluating…')\n",
    "    model.eval()\n",
    "    \n",
    "    test_loss = 0\n",
    "    test_cer_greedy, test_wer_greedy = [], []\n",
    "    test_cer_beam, test_wer_beam = [], []\n",
    "\n",
    "    with experiment.test():\n",
    "        with torch.no_grad():\n",
    "            for I, _data in enumerate(test_loader):\n",
    "                spectrograms, labels, input_lengths, label_lengths = _data \n",
    "                spectrograms, labels = spectrograms.to(device), labels.to(device)\n",
    "\n",
    "                output = model(spectrograms)  # (batch, time, n_class)\n",
    "                # output = F.log_softmax(output, dim=2)\n",
    "                # output = output.transpose(0, 1) # (time, batch, n_class)\n",
    "\n",
    "                output_for_loss = F.log_softmax(output, dim=2).transpose(0, 1)\n",
    "                loss = criterion(output_for_loss, labels, input_lengths, label_lengths)\n",
    "                test_loss += loss.item() / len(test_loader)\n",
    "\n",
    "                greedy_preds, decoded_targets = GreedyDecoder(output, labels, label_lengths)\n",
    "                beams, beam_preds = BeamSearchDecoder(output)\n",
    "\n",
    "                for j in range(len(greedy_preds)):\n",
    "                    test_cer_greedy.append(cer(decoded_targets[j], greedy_preds[j]))\n",
    "                    test_wer_greedy.append(wer(decoded_targets[j], greedy_preds[j]))\n",
    "\n",
    "                for j in range(len(beam_preds)):\n",
    "                    test_cer_beam.append(cer(decoded_targets[j], beam_preds[j]))\n",
    "                    test_wer_beam.append(wer(decoded_targets[j], beam_preds[j]))\n",
    "\n",
    "    experiment.log_metric('test_loss', test_loss, step=iter_meter.get())\n",
    "    print('Test set: Average loss: {:.4f}'.format(test_loss))\n",
    "\n",
    "    avg_cer_greedy = sum(test_cer_greedy)/len(test_cer_greedy)\n",
    "    avg_wer_greedy = sum(test_wer_greedy)/len(test_wer_greedy)\n",
    "    experiment.log_metric('cer_greedy', avg_cer_greedy, step=iter_meter.get())\n",
    "    experiment.log_metric('wer_greedy', avg_wer_greedy, step=iter_meter.get())\n",
    "    print('Average Greedy CER: {:4f} Average Greedy WER: {:.4f}\\n'.format(avg_cer_greedy, avg_wer_greedy))\n",
    "\n",
    "    avg_cer_beam = sum(test_cer_beam)/len(test_cer_beam)\n",
    "    avg_wer_beam = sum(test_wer_beam)/len(test_wer_beam)\n",
    "    experiment.log_metric('cer_beam', avg_cer_beam, step=iter_meter.get())\n",
    "    experiment.log_metric('wer_beam', avg_wer_beam, step=iter_meter.get())\n",
    "    print('Average Beam CER: {:4f} Average Beam WER: {:.4f}\\n'.format(avg_cer_beam, avg_wer_beam))\n",
    "\n",
    "\n",
    "def train_test(hparams, experiment=Experiment(api_key='dummy_key', disabled=True)):\n",
    "\n",
    "    experiment.log_parameters(hparams)\n",
    "\n",
    "    train_dataset, test_dataset = download_data(DATASET_FOLDER)\n",
    "\n",
    "    device, use_cuda = get_device()\n",
    "\n",
    "    kwargs = {'num_workers': 1, 'pin_memory': True} if use_cuda else {}\n",
    "    train_loader = data.DataLoader(dataset=train_dataset,\n",
    "                                batch_size=hparams['batch_size'],\n",
    "                                shuffle=True,\n",
    "                                collate_fn=lambda x: data_processing(x, 'train'),\n",
    "                                **kwargs)\n",
    "    test_loader = data.DataLoader(dataset=test_dataset,\n",
    "                                batch_size=hparams['batch_size'],\n",
    "                                shuffle=False,\n",
    "                                collate_fn=lambda x: data_processing(x, 'test'),\n",
    "                                **kwargs)\n",
    "\n",
    "    model = SpeechRecognitionModel(\n",
    "        hparams['rnn_type'], hparams['n_cnn_layers'], hparams['n_rnn_layers'], hparams['rnn_dim'],\n",
    "        hparams['n_class'], hparams['n_feats'], hparams['stride'], hparams['dropout']\n",
    "        ).to(device)\n",
    "\n",
    "    print(model)\n",
    "    print('Num Model Parameters', sum([param.nelement() for param in model.parameters()]))\n",
    "\n",
    "    optimizer = optim.AdamW(model.parameters(), hparams['learning_rate'])\n",
    "    #optimizer = optim.Adam(model.parameters(), hparams['learning_rate'])\n",
    "    #optimizer = optim.SGD(model.parameters(), hparams['learning_rate'], momentum=0.1, nesterov=True)\n",
    "    criterion = nn.CTCLoss(blank=BLANK_LABEL).to(device)\n",
    "    #scheduler = torch.optim.lr_scheduler.StepLR(optimizer, step_size=hparams['scheduler_step_size'], gamma=hparams['scheduler_gamma'], verbose=True)\n",
    "    scheduler = optim.lr_scheduler.OneCycleLR(optimizer, max_lr=hparams['learning_rate'], \n",
    "                                            steps_per_epoch=int(len(train_loader)),\n",
    "                                            epochs=hparams['epochs'],\n",
    "                                            anneal_strategy='linear')\n",
    "\n",
    "    iter_meter = IterMeter()\n",
    "    for epoch in range(1, hparams['epochs'] + 1):\n",
    "        train(model, device, train_loader, criterion, optimizer, scheduler, epoch, iter_meter, experiment)\n",
    "        test(model, device, test_loader, criterion, epoch, iter_meter, experiment)\n",
    "        #scheduler.step()   # scheduler step for stepLR scheduler\n",
    "\n",
    "    return model"
   ]
  },
  {
   "attachments": {},
   "cell_type": "markdown",
   "metadata": {},
   "source": [
    "Experiments are monitored using Comet.ml:"
   ]
  },
  {
   "cell_type": "code",
   "execution_count": 19,
   "metadata": {},
   "outputs": [
    {
     "name": "stderr",
     "output_type": "stream",
     "text": [
      "COMET WARNING: Comet has disabled auto-logging functionality as it has been imported after the following ML modules: torch. Metrics and hyperparameters can still be logged using Experiment.log_metrics() and Experiment.log_parameters()\n",
      "COMET WARNING: As you are running in a Jupyter environment, you will need to call `experiment.end()` when finished to ensure all metrics and code are logged before exiting.\n",
      "COMET INFO: Experiment is live on comet.com https://www.comet.com/pigeongcc/speech-recognition/2f6228b4ba604ab2b8d72bc8b05f8b5d\n",
      "\n"
     ]
    }
   ],
   "source": [
    "hparams = {\n",
    "    \"rnn_type\": \"LSTM\",\n",
    "    \"n_cnn_layers\": 3,\n",
    "    \"n_rnn_layers\": 3,\n",
    "    \"n_feats\": 128,\n",
    "    \"stride\": 2,\n",
    "    \"rnn_dim\": 512,\n",
    "    \"n_class\": len(characters),\n",
    "    \"dropout\": 0.05,\n",
    "    \"learning_rate\": 5e-4,\n",
    "    \"batch_size\": 8,\n",
    "    \"epochs\": 3,\n",
    "}\n",
    "\n",
    "comet_api_key = \"KddYvSKPDO9U8K1lZUIUCgHjT\"\n",
    "project_name = \"speech-recognition\"\n",
    "experiment_name = f\"rnn:{hparams['rnn_type']}-epochs:{hparams['epochs']}\"\n",
    "\n",
    "if comet_api_key:\n",
    "    experiment = Experiment(api_key=comet_api_key, project_name=project_name, parse_args=False)\n",
    "    experiment.set_name(experiment_name)\n",
    "    # experiment.display()\n",
    "else:\n",
    "    experiment = Experiment(api_key='dummy_key', disabled=True)"
   ]
  },
  {
   "attachments": {},
   "cell_type": "markdown",
   "metadata": {},
   "source": [
    "Run the training loop:"
   ]
  },
  {
   "cell_type": "code",
   "execution_count": null,
   "metadata": {},
   "outputs": [],
   "source": [
    "model = train_test(hparams, experiment)"
   ]
  },
  {
   "cell_type": "code",
   "execution_count": null,
   "metadata": {},
   "outputs": [],
   "source": [
    "experiment.end()"
   ]
  },
  {
   "attachments": {},
   "cell_type": "markdown",
   "metadata": {},
   "source": [
    "# Serialization"
   ]
  },
  {
   "cell_type": "code",
   "execution_count": 20,
   "metadata": {},
   "outputs": [],
   "source": [
    "if not os.path.isdir(\"./models\"):\n",
    "    os.makedirs(\"./models\")\n",
    "\n",
    "def get_model_paths(experiment_name):\n",
    "    model_folder_path = f'./models/{experiment_name}'\n",
    "    model_path = f'{model_folder_path}/{experiment_name}.pth'\n",
    "    hparams_path = f'{model_folder_path}/{experiment_name}.json'\n",
    "    return model_folder_path, model_path, hparams_path"
   ]
  },
  {
   "attachments": {},
   "cell_type": "markdown",
   "metadata": {},
   "source": [
    "## Saving the Model"
   ]
  },
  {
   "cell_type": "code",
   "execution_count": 21,
   "metadata": {},
   "outputs": [],
   "source": [
    "def save_model(experiment_name):\n",
    "\tmodel_folder_path, model_path, hparams_path = get_model_paths(experiment_name)\n",
    "\n",
    "\t# create folders if not exist\n",
    "\tif not os.path.isdir(model_folder_path):\n",
    "\t\tif not os.path.isdir(\"./models\"):\n",
    "\t\t\tos.makedirs(\"./models\")\n",
    "\t\tos.makedirs(model_folder_path)\n",
    "\t\t\n",
    "\ttorch.save(model.state_dict(), model_path)\n",
    "\n",
    "\twith open(hparams_path, 'w') as f:\n",
    "\t\tjson.dump(hparams, f)"
   ]
  },
  {
   "cell_type": "code",
   "execution_count": 22,
   "metadata": {},
   "outputs": [],
   "source": [
    "# save_model(experiment_name)"
   ]
  },
  {
   "attachments": {},
   "cell_type": "markdown",
   "metadata": {},
   "source": [
    "## Loading the Model"
   ]
  },
  {
   "cell_type": "code",
   "execution_count": 23,
   "metadata": {},
   "outputs": [],
   "source": [
    "def load_model(experiment_name):\n",
    "    _, model_path, hparams_path = get_model_paths(experiment_name)\n",
    "    \n",
    "    device, _ = get_device()\n",
    "\n",
    "    with open(hparams_path, 'r') as f:\n",
    "        hparams = json.load(f)\n",
    "\n",
    "    if 'rnn_type' not in hparams:\n",
    "        hparams['rnn_type'] = \"GRU\"\n",
    "\n",
    "    model = SpeechRecognitionModel(\n",
    "        hparams['rnn_type'], hparams['n_cnn_layers'], hparams['n_rnn_layers'], hparams['rnn_dim'],\n",
    "        hparams['n_class'], hparams['n_feats'], hparams['stride'], hparams['dropout']\n",
    "        ).to(device)\n",
    "\n",
    "    model.load_state_dict(torch.load(model_path))\n",
    "\n",
    "    return model, hparams"
   ]
  },
  {
   "cell_type": "code",
   "execution_count": 24,
   "metadata": {},
   "outputs": [],
   "source": [
    "experiment_name = f\"asr-lch-optim:adamw-scheduler:oncecycle-data:full-epochs:30\"\n",
    "model_loaded, hparams_loaded = load_model(experiment_name)"
   ]
  },
  {
   "attachments": {},
   "cell_type": "markdown",
   "metadata": {},
   "source": [
    "# Inference"
   ]
  },
  {
   "cell_type": "code",
   "execution_count": 27,
   "metadata": {},
   "outputs": [],
   "source": [
    "def infer(model,\n",
    "          sample_idx: int = None,\n",
    "          sample_path: int = None,\n",
    "          collapse_repeated: bool = True):\n",
    "    device, _ = get_device()\n",
    "\n",
    "    if sample_path is not None:\n",
    "        waveform, _ = torchaudio.load(sample_path)\n",
    "        sample = (waveform, None, \"<INFERENCE_SAMPLE>\", None, None, None)\n",
    "    elif sample_idx is not None:\n",
    "        sample = test_dataset.__getitem__(n=sample_idx)\n",
    "\n",
    "    spectrogram, label, input_length, label_length = \\\n",
    "        data_processing((sample,))\n",
    "    spectrogram, label = spectrogram.to(device), label.to(device)\n",
    "\n",
    "    model.eval()\n",
    "\n",
    "    output = model(spectrogram)\n",
    "\n",
    "    greedy_pred, label = GreedyDecoder(output, label, label_length, collapse_repeated=collapse_repeated)\n",
    "    beams, beam_preds = BeamSearchDecoder(output)\n",
    "    \n",
    "    print(f\"Negative log likelihood matrix shape: {output.shape}\")\n",
    "    print(\"\\nGREEDY DECODING\")\n",
    "    print(f\"Decoded indices:\\n{torch.argmax(output, dim=2)}\")\n",
    "    print()\n",
    "    print(f\"Target (len {len(label[0])}): {label}\")\n",
    "    print(f\"Prediction (len {len(greedy_pred[0])}): {greedy_pred}\")\n",
    "\n",
    "    print(\"\\nBEAM SEARCH DECODING\")\n",
    "    print(f\"Top beam:\\n{beams}\")\n",
    "    print()\n",
    "    print(f\"Target (len {len(label[0])}): {label}\")\n",
    "    print(f\"Prediction (len {len(beam_preds[0])}): {beam_preds}\")"
   ]
  },
  {
   "cell_type": "code",
   "execution_count": 29,
   "metadata": {},
   "outputs": [
    {
     "ename": "ValueError",
     "evalue": "not enough values to unpack (expected 6, got 5)",
     "output_type": "error",
     "traceback": [
      "\u001b[0;31m---------------------------------------------------------------------------\u001b[0m",
      "\u001b[0;31mValueError\u001b[0m                                Traceback (most recent call last)",
      "\u001b[1;32m/home/pigeon_gcc/Desktop/speech-recognition/model.ipynb Cell 45\u001b[0m in \u001b[0;36m1\n\u001b[0;32m----> <a href='vscode-notebook-cell:/home/pigeon_gcc/Desktop/speech-recognition/model.ipynb#Y634sZmlsZQ%3D%3D?line=0'>1</a>\u001b[0m infer(model_loaded, sample_path\u001b[39m=\u001b[39;49m\u001b[39m'\u001b[39;49m\u001b[39mdata/sample.wav\u001b[39;49m\u001b[39m'\u001b[39;49m)\n",
      "\u001b[1;32m/home/pigeon_gcc/Desktop/speech-recognition/model.ipynb Cell 45\u001b[0m in \u001b[0;36m1\n\u001b[1;32m     <a href='vscode-notebook-cell:/home/pigeon_gcc/Desktop/speech-recognition/model.ipynb#Y634sZmlsZQ%3D%3D?line=9'>10</a>\u001b[0m \u001b[39melif\u001b[39;00m sample_idx \u001b[39mis\u001b[39;00m \u001b[39mnot\u001b[39;00m \u001b[39mNone\u001b[39;00m:\n\u001b[1;32m     <a href='vscode-notebook-cell:/home/pigeon_gcc/Desktop/speech-recognition/model.ipynb#Y634sZmlsZQ%3D%3D?line=10'>11</a>\u001b[0m     sample \u001b[39m=\u001b[39m test_dataset\u001b[39m.\u001b[39m\u001b[39m__getitem__\u001b[39m(n\u001b[39m=\u001b[39msample_idx)\n\u001b[1;32m     <a href='vscode-notebook-cell:/home/pigeon_gcc/Desktop/speech-recognition/model.ipynb#Y634sZmlsZQ%3D%3D?line=12'>13</a>\u001b[0m spectrogram, label, input_length, label_length \u001b[39m=\u001b[39m \\\n\u001b[0;32m---> <a href='vscode-notebook-cell:/home/pigeon_gcc/Desktop/speech-recognition/model.ipynb#Y634sZmlsZQ%3D%3D?line=13'>14</a>\u001b[0m     data_processing((sample,))\n\u001b[1;32m     <a href='vscode-notebook-cell:/home/pigeon_gcc/Desktop/speech-recognition/model.ipynb#Y634sZmlsZQ%3D%3D?line=14'>15</a>\u001b[0m spectrogram, label \u001b[39m=\u001b[39m spectrogram\u001b[39m.\u001b[39mto(device), label\u001b[39m.\u001b[39mto(device)\n\u001b[1;32m     <a href='vscode-notebook-cell:/home/pigeon_gcc/Desktop/speech-recognition/model.ipynb#Y634sZmlsZQ%3D%3D?line=16'>17</a>\u001b[0m model\u001b[39m.\u001b[39meval()\n",
      "\u001b[1;32m/home/pigeon_gcc/Desktop/speech-recognition/model.ipynb Cell 45\u001b[0m in \u001b[0;36m6\n\u001b[1;32m      <a href='vscode-notebook-cell:/home/pigeon_gcc/Desktop/speech-recognition/model.ipynb#Y634sZmlsZQ%3D%3D?line=3'>4</a>\u001b[0m input_lengths \u001b[39m=\u001b[39m []\n\u001b[1;32m      <a href='vscode-notebook-cell:/home/pigeon_gcc/Desktop/speech-recognition/model.ipynb#Y634sZmlsZQ%3D%3D?line=4'>5</a>\u001b[0m label_lengths \u001b[39m=\u001b[39m []\n\u001b[0;32m----> <a href='vscode-notebook-cell:/home/pigeon_gcc/Desktop/speech-recognition/model.ipynb#Y634sZmlsZQ%3D%3D?line=5'>6</a>\u001b[0m \u001b[39mfor\u001b[39;00m (waveform, _, utterance, _, _, _) \u001b[39min\u001b[39;00m data:\n\u001b[1;32m      <a href='vscode-notebook-cell:/home/pigeon_gcc/Desktop/speech-recognition/model.ipynb#Y634sZmlsZQ%3D%3D?line=6'>7</a>\u001b[0m     \u001b[39mif\u001b[39;00m data_type \u001b[39m==\u001b[39m \u001b[39m'\u001b[39m\u001b[39mtrain\u001b[39m\u001b[39m'\u001b[39m:\n\u001b[1;32m      <a href='vscode-notebook-cell:/home/pigeon_gcc/Desktop/speech-recognition/model.ipynb#Y634sZmlsZQ%3D%3D?line=7'>8</a>\u001b[0m         spec \u001b[39m=\u001b[39m train_audio_transforms(waveform)\u001b[39m.\u001b[39msqueeze(\u001b[39m0\u001b[39m)\u001b[39m.\u001b[39mtranspose(\u001b[39m0\u001b[39m, \u001b[39m1\u001b[39m)\n",
      "\u001b[0;31mValueError\u001b[0m: not enough values to unpack (expected 6, got 5)"
     ]
    }
   ],
   "source": [
    "infer(model_loaded, sample_path='data/sample.wav')"
   ]
  },
  {
   "cell_type": "code",
   "execution_count": 28,
   "metadata": {},
   "outputs": [
    {
     "name": "stdout",
     "output_type": "stream",
     "text": [
      "Negative log likelihood matrix shape: torch.Size([1, 396, 28])\n",
      "\n",
      "GREEDY DECODING\n",
      "Decoded indices:\n",
      "tensor([[ 1,  1,  1,  1,  1,  1,  1,  1,  1,  1,  1,  1,  1,  1,  1,  1, 24,  6,\n",
      "         13, 13,  1, 13,  1,  1,  1,  1,  1,  1,  1,  1,  1,  2,  1,  1,  1,  1,\n",
      "          1,  1,  1,  4, 16, 16, 15,  1,  1,  1,  1,  1, 21,  7, 10, 20,  1,  4,\n",
      "          6,  5,  1,  1,  1, 21,  1,  2, 21,  1,  1,  1, 21,  9,  6,  1,  1,  1,\n",
      "          1,  1,  1,  3, 16,  2, 16,  5,  1,  1,  6,  5,  1,  1,  1,  1,  1, 22,\n",
      "         17,  1,  1,  1,  1,  1,  1,  1,  1,  9, 16, 22,  1, 20,  6,  1,  1,  1,\n",
      "          1,  1,  1,  1,  1, 14, 26, 20, 20,  1,  1,  1, 21, 21, 19, 19, 26,  1,\n",
      "          1, 20,  1,  1,  1,  1,  1,  1,  1,  9,  2, 17,  1,  1, 17, 17,  6, 15,\n",
      "          6,  5,  1,  1,  1,  1,  1,  1,  1, 15, 15, 16, 21,  1,  1,  1,  1,  1,\n",
      "          1,  1,  2, 19, 19,  1,  1,  1, 13,  1, 13, 10,  1,  2, 19,  1,  1,  1,\n",
      "          1,  1, 21,  9,  2, 15,  1,  1,  1,  1,  1,  1,  1,  1,  1,  1,  1,  1,\n",
      "          1,  2,  2,  1,  1,  1, 17,  6, 19, 16, 13,  1,  1,  1,  1,  1,  1,  1,\n",
      "         20, 10,  1,  6, 25,  1,  1,  1,  1,  1,  1,  1,  1, 21,  6,  1,  6,  6,\n",
      "         21, 21,  9,  1,  1,  1,  1,  1,  1,  1,  1,  1,  1,  1,  1,  1,  1,  1,\n",
      "          1,  1,  1,  1,  1,  1,  1,  1,  1,  1,  1,  1,  1, 22,  1,  1, 21, 21,\n",
      "          2,  1,  6, 15, 15,  1,  1,  1,  1,  1,  1, 20,  2, 10, 25, 25,  1,  1,\n",
      "          1,  1,  1, 21,  6,  1,  6, 15,  1,  1,  1,  1,  1, 16, 16, 15, 15,  6,\n",
      "          1,  1,  1,  1,  1,  1,  1,  1,  1,  1,  1,  1,  1,  1,  2, 15,  5,  1,\n",
      "          1,  1,  1,  1,  1,  1,  1,  1, 17, 19, 16,  3,  3,  2,  2,  1,  1,  1,\n",
      "         13, 13, 26,  1,  1,  1,  1,  1,  1,  1,  1, 15, 16, 21,  1,  1,  1,  1,\n",
      "          1,  1,  1,  1, 14, 22,  4,  9,  9,  1,  1,  1,  1,  1,  1,  1,  1, 13,\n",
      "          6,  2,  2,  5,  1,  6,  6,  6,  1,  1,  1,  1,  1,  1,  1,  1,  1,  1]],\n",
      "       device='cuda:0')\n",
      "\n",
      "Target (len 141): [\"well i'm convinced that the boarded up house mystery happened not earlier than april sixteenth eighteen sixty one and probably not much later\"]\n",
      "Prediction (len 146): ['well a con tfisced tat the boaoded up house mys trys happened not ar lliar than a perol siex teeth utaen saix teen one and proba ly not much leade']\n",
      "\n",
      "BEAM SEARCH DECODING\n",
      "Top beam:\n",
      "[tensor([ 1, 24,  6, 13,  1, 13,  1,  2,  1,  4, 16, 15,  1, 21,  7, 10, 20,  1,\n",
      "         4,  6,  5,  1, 21,  1,  2, 21,  1, 21,  9,  6,  1,  3, 16,  2, 16,  5,\n",
      "         1,  6,  5,  1, 22, 17,  1,  9, 16, 22,  1, 20,  6,  1, 14, 26, 20,  1,\n",
      "        21, 19, 26,  1, 20,  1,  9,  2, 17,  1, 17,  6, 15,  6,  5,  1, 15, 16,\n",
      "        21,  1,  2, 19,  1, 13, 10,  2, 19,  1, 21,  9,  2, 15,  1,  2,  1, 17,\n",
      "         6, 19, 13,  1, 20, 10,  1,  6, 25,  1, 21,  6,  1,  6, 21,  9,  1, 22,\n",
      "         1, 21,  2,  1,  6, 15,  1, 20,  2, 10, 25,  1, 21,  6,  1,  6, 15,  1,\n",
      "        16, 15,  6,  1,  2, 15,  5,  1, 17, 19, 16,  3,  2,  1, 13, 26,  1, 15,\n",
      "        16, 21,  1, 14, 22,  4,  9,  1, 13,  6,  2,  5,  1,  6, 19,  1],\n",
      "       dtype=torch.int32)]\n",
      "\n",
      "Target (len 141): [\"well i'm convinced that the boarded up house mystery happened not earlier than april sixteenth eighteen sixty one and probably not much later\"]\n",
      "Prediction (len 158): ['wel l a con tfis ced t at the boaod ed up hou se mys try s hap pened not ar liar than a perl si ex te eth u ta en saix te en one and proba ly not much lead er']\n"
     ]
    }
   ],
   "source": [
    "infer(model_loaded, sample_idx=2000)"
   ]
  },
  {
   "cell_type": "code",
   "execution_count": null,
   "metadata": {},
   "outputs": [],
   "source": []
  }
 ],
 "metadata": {
  "kernelspec": {
   "display_name": "asr_project",
   "language": "python",
   "name": "python3"
  },
  "language_info": {
   "codemirror_mode": {
    "name": "ipython",
    "version": 3
   },
   "file_extension": ".py",
   "mimetype": "text/x-python",
   "name": "python",
   "nbconvert_exporter": "python",
   "pygments_lexer": "ipython3",
   "version": "3.9.13"
  },
  "orig_nbformat": 4,
  "vscode": {
   "interpreter": {
    "hash": "5a4c2d921764f83a11dfe9b316c38093c37b9ffd72d2b52ea0257d21758f06cd"
   }
  }
 },
 "nbformat": 4,
 "nbformat_minor": 2
}
